{
 "cells": [
  {
   "cell_type": "code",
   "execution_count": 1,
   "id": "7244797b",
   "metadata": {},
   "outputs": [],
   "source": [
    "import numpy as np"
   ]
  },
  {
   "cell_type": "code",
   "execution_count": 2,
   "id": "c3932f36",
   "metadata": {},
   "outputs": [],
   "source": [
    "class Perceptron:\n",
    "    def __init__(self,learning_rate = 0.01,iterations = 1000,activation = None ):\n",
    "        self.learning_rate = 0.01\n",
    "        self.iterations = iterations\n",
    "        if activation == None:\n",
    "            self.activation = self.unit_step_fn\n",
    "        else:\n",
    "            self.activation = activation\n",
    "            \n",
    "    def fit(self,X,y):\n",
    "        \n",
    "        (m,n) = X.shape #weight matrix is of the shape mxn\n",
    "        \n",
    "        self.weights = np.random.randn(n,1) #weights are of shape nx1\n",
    "        \n",
    "        self.bias = np.random.randn(1,1) #shape of bias is 1x1\n",
    "        \n",
    "        print(f'weights:  {self.weights.shape}')\n",
    "        print(f'bias:     {self.bias.shape}')\n",
    "        print(f'X:        {X.shape}')\n",
    "        print(f'y:        {y.shape}')\n",
    "        \n",
    "        for epoch in range(self.iterations):\n",
    "            \n",
    "            #make a predictions for all samples\n",
    "            y_hat = np.matmul(X,self.weights) + self.bias #shape of y_hat is [mxn]x[nx1] +[1,1] = [mx1]\n",
    "            y_hat = self.activation(y_hat)\n",
    "            \n",
    "            #print(f'y_hat:{y_hat.shape}')\n",
    "            \n",
    "            #check loss\n",
    "            loss = np.square(y_hat - y)\n",
    "            \n",
    "            #calculate gradients\n",
    "            y_hat_grad = 2 * (y_hat - y) #[mx1]\n",
    "            \n",
    "            #update each weight in vectorized format assuming a smooth approximation for step fn\n",
    "            self.weights -= self.learning_rate * np.matmul(X.T ,y_hat_grad)\n",
    "            self.bias -= self.learning_rate * y_hat_grad.sum()\n",
    "    \n",
    "    def predict(self,X):\n",
    "        return self.unit_step_fn(np.matmul(X,self.weights) + self.bias)\n",
    "    \n",
    "    \n",
    "    def unit_step_fn(self,y_hat):\n",
    "        return np.where(y_hat>=0,1,0)\n",
    "    \n",
    "    \n",
    "    def __repr__(self):\n",
    "        \n",
    "        print(f'weights:  {self.weights}')\n",
    "        print(f'bias:     {self.bias}')\n",
    "        print(f'X shape:        {X.shape}')\n",
    "        print(f'y shape:        {y.shape}')\n",
    "        \n",
    "        return \"\"\n",
    "        "
   ]
  },
  {
   "cell_type": "code",
   "execution_count": 3,
   "id": "51c17c99",
   "metadata": {},
   "outputs": [],
   "source": [
    "p1 = Perceptron(iterations=1000)"
   ]
  },
  {
   "cell_type": "code",
   "execution_count": 4,
   "id": "8e93b12e",
   "metadata": {},
   "outputs": [
    {
     "name": "stdout",
     "output_type": "stream",
     "text": [
      "weights:  (3, 1)\n",
      "bias:     (1, 1)\n",
      "X:        (8, 3)\n",
      "y:        (8, 1)\n"
     ]
    }
   ],
   "source": [
    "#lets design an 3 i/p OR gate\n",
    "X = np.array([\n",
    "    [0,0,0],\n",
    "    [0,0,1],\n",
    "    [0,1,0],\n",
    "    [0,1,1],\n",
    "    [1,0,0],\n",
    "    [1,0,1],\n",
    "    [1,1,0],\n",
    "    [1,1,1]\n",
    "    ])\n",
    "y = np.array([0,1,1,1,1,1,1,1]).reshape((8,1))\n",
    "p1.fit(X,y)"
   ]
  },
  {
   "cell_type": "code",
   "execution_count": 5,
   "id": "ae419330",
   "metadata": {},
   "outputs": [
    {
     "name": "stdout",
     "output_type": "stream",
     "text": [
      "weights:  [[0.80358623]\n",
      " [0.09502619]\n",
      " [0.02982838]]\n",
      "bias:     [[-0.01156852]]\n",
      "X shape:        (8, 3)\n",
      "y shape:        (8, 1)\n",
      "\n"
     ]
    }
   ],
   "source": [
    "print(p1)"
   ]
  },
  {
   "cell_type": "code",
   "execution_count": 6,
   "id": "6563dd7e",
   "metadata": {},
   "outputs": [
    {
     "data": {
      "text/plain": [
       "array([[0],\n",
       "       [1],\n",
       "       [1],\n",
       "       [1],\n",
       "       [1],\n",
       "       [1],\n",
       "       [1],\n",
       "       [1]])"
      ]
     },
     "execution_count": 6,
     "metadata": {},
     "output_type": "execute_result"
    }
   ],
   "source": [
    "x_test = np.array(X)\n",
    "p1.predict(x_test)"
   ]
  },
  {
   "cell_type": "code",
   "execution_count": null,
   "id": "80c581d1",
   "metadata": {},
   "outputs": [],
   "source": []
  }
 ],
 "metadata": {
  "kernelspec": {
   "display_name": "Python 3",
   "language": "python",
   "name": "python3"
  },
  "language_info": {
   "codemirror_mode": {
    "name": "ipython",
    "version": 3
   },
   "file_extension": ".py",
   "mimetype": "text/x-python",
   "name": "python",
   "nbconvert_exporter": "python",
   "pygments_lexer": "ipython3",
   "version": "3.8.8"
  }
 },
 "nbformat": 4,
 "nbformat_minor": 5
}
