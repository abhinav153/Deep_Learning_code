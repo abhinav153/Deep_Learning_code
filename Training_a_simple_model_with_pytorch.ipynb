{
 "cells": [
  {
   "cell_type": "markdown",
   "id": "be5d6cee",
   "metadata": {},
   "source": [
    "## In this notebook we will try to train a simple pytorch model on the Iris dataset"
   ]
  },
  {
   "cell_type": "code",
   "execution_count": 60,
   "id": "a32a5396",
   "metadata": {},
   "outputs": [],
   "source": [
    "import torch\n",
    "import sklearn\n",
    "import numpy as np\n",
    "from sklearn.datasets import load_iris\n",
    "from sklearn.preprocessing import StandardScaler\n",
    "from sklearn.model_selection import train_test_split\n",
    "from sklearn.metrics import accuracy_score\n",
    "\n",
    "import torch.nn as nn\n",
    "import torch.nn.functional as F"
   ]
  },
  {
   "cell_type": "code",
   "execution_count": 61,
   "id": "106845bb",
   "metadata": {},
   "outputs": [
    {
     "name": "stdout",
     "output_type": "stream",
     "text": [
      "['setosa' 'versicolor' 'virginica']\n"
     ]
    }
   ],
   "source": [
    "\n",
    "#loading iris dataset and extracting variables\n",
    "iris = load_iris()\n",
    "X = iris['data']\n",
    "y = iris['target']\n",
    "names = iris['target_names']\n",
    "feature_names = iris['feature_names']\n",
    "\n",
    "#no of targets\n",
    "print(names)"
   ]
  },
  {
   "cell_type": "markdown",
   "id": "08a6e263",
   "metadata": {},
   "source": [
    "## Model"
   ]
  },
  {
   "cell_type": "code",
   "execution_count": 62,
   "id": "6bc83d4f",
   "metadata": {},
   "outputs": [],
   "source": [
    "class Model(nn.Module):\n",
    "    \n",
    "    #defining model structure\n",
    "    def __init__(self,input_dims):\n",
    "        super(Model,self).__init__()\n",
    "        self.layer1 = nn.Linear(input_dims,100)\n",
    "        self.layer2 = nn.Linear(100,50)\n",
    "        self.layer3 = nn.Linear(50,3)\n",
    "        \n",
    "    #define forward computation with activation functions\n",
    "    def forward(self,x):\n",
    "        x = F.relu(self.layer1(x))\n",
    "        x = F.relu(self.layer2(x))\n",
    "        x = F.softmax(self.layer3(x))\n",
    "        \n",
    "        return x\n",
    "    "
   ]
  },
  {
   "cell_type": "code",
   "execution_count": 63,
   "id": "89e1d968",
   "metadata": {},
   "outputs": [
    {
     "name": "stdout",
     "output_type": "stream",
     "text": [
      "Model(\n",
      "  (layer1): Linear(in_features=4, out_features=100, bias=True)\n",
      "  (layer2): Linear(in_features=100, out_features=50, bias=True)\n",
      "  (layer3): Linear(in_features=50, out_features=3, bias=True)\n",
      ")\n"
     ]
    }
   ],
   "source": [
    "#instantiating our model and defining optimizer and loss fn\n",
    "model = Model(4)\n",
    "optimizer = torch.optim.Adagrad(model.parameters(),lr = 0.01)\n",
    "loss_fn = nn.CrossEntropyLoss()\n",
    "print(model)"
   ]
  },
  {
   "cell_type": "markdown",
   "id": "6cdb7773",
   "metadata": {},
   "source": [
    "## Preparing our data"
   ]
  },
  {
   "cell_type": "code",
   "execution_count": 64,
   "id": "9cd5b946",
   "metadata": {},
   "outputs": [],
   "source": [
    "scaler = StandardScaler()\n",
    "\n",
    "X_scaled = scaler.fit_transform(X)\n",
    "\n",
    "X_scaled = X_scaled.astype(np.float32)\n",
    "\n",
    "X_train,X_test,y_train,y_test = train_test_split(X_scaled,y,test_size=0.2,random_state=2)\n"
   ]
  },
  {
   "cell_type": "code",
   "execution_count": 65,
   "id": "1ab9dd41",
   "metadata": {},
   "outputs": [],
   "source": [
    "# we need to convert out dataset variables to tensors to utilize gpu computation\n",
    "\n",
    "X_train = torch.from_numpy(X_train)\n",
    "X_test = torch.from_numpy(X_test)\n",
    "y_train = torch.from_numpy(y_train)\n",
    "y_test = torch.from_numpy(y_test)\n",
    "\n",
    "\n"
   ]
  },
  {
   "cell_type": "markdown",
   "id": "1eefd6d3",
   "metadata": {},
   "source": [
    "## Training"
   ]
  },
  {
   "cell_type": "code",
   "execution_count": 67,
   "id": "aa55a839",
   "metadata": {},
   "outputs": [
    {
     "name": "stdout",
     "output_type": "stream",
     "text": [
      "Epoch # 0\n",
      "1.0889053344726562\n",
      "Epoch # 10\n",
      "0.709537923336029\n",
      "Epoch # 20\n",
      "0.6378505229949951\n",
      "Epoch # 30\n",
      "0.6061201691627502\n",
      "Epoch # 40\n",
      "0.5926541090011597\n",
      "Epoch # 50\n",
      "0.5853510499000549\n",
      "Epoch # 60\n",
      "0.5807108283042908\n",
      "Epoch # 70\n",
      "0.5774818062782288\n",
      "Epoch # 80\n",
      "0.5751286745071411\n",
      "Epoch # 90\n",
      "0.573313295841217\n"
     ]
    },
    {
     "name": "stderr",
     "output_type": "stream",
     "text": [
      "/tmp/ipykernel_12515/2796111341.py:14: UserWarning: Implicit dimension choice for softmax has been deprecated. Change the call to include dim=X as an argument.\n",
      "  x = F.softmax(self.layer3(x))\n"
     ]
    }
   ],
   "source": [
    "EPOCHS = 100\n",
    "\n",
    "for epoch in range(EPOCHS):\n",
    "    \n",
    "    y_pred = model(X_train)\n",
    "    loss = loss_fn(y_pred,y_train)\n",
    "    \n",
    "    if epoch % 10 == 0:\n",
    "        print (\"Epoch #\",epoch)\n",
    "        print(loss.item())\n",
    "        \n",
    "    #Zero the gradients\n",
    "    optimizer.zero_grad()\n",
    "    loss.backward()#calculate gradients\n",
    "    optimizer.step()#update weights\n",
    "    "
   ]
  },
  {
   "cell_type": "markdown",
   "id": "8b13cb29",
   "metadata": {},
   "source": [
    "## Predictions"
   ]
  },
  {
   "cell_type": "code",
   "execution_count": 68,
   "id": "e4b15763",
   "metadata": {},
   "outputs": [
    {
     "name": "stderr",
     "output_type": "stream",
     "text": [
      "/tmp/ipykernel_12515/2796111341.py:14: UserWarning: Implicit dimension choice for softmax has been deprecated. Change the call to include dim=X as an argument.\n",
      "  x = F.softmax(self.layer3(x))\n"
     ]
    }
   ],
   "source": [
    "with torch.no_grad():\n",
    "    y_test_pred = model(X_test)"
   ]
  },
  {
   "cell_type": "code",
   "execution_count": 74,
   "id": "668e2bf6",
   "metadata": {},
   "outputs": [
    {
     "data": {
      "text/plain": [
       "0.9333333333333333"
      ]
     },
     "execution_count": 74,
     "metadata": {},
     "output_type": "execute_result"
    }
   ],
   "source": [
    "accuracy_score(np.argmax(y_test_pred,axis=1),y_test)"
   ]
  },
  {
   "cell_type": "code",
   "execution_count": null,
   "id": "147c0768",
   "metadata": {},
   "outputs": [],
   "source": []
  }
 ],
 "metadata": {
  "kernelspec": {
   "display_name": "Python [conda env:pyt_gpu]",
   "language": "python",
   "name": "conda-env-pyt_gpu-py"
  },
  "language_info": {
   "codemirror_mode": {
    "name": "ipython",
    "version": 3
   },
   "file_extension": ".py",
   "mimetype": "text/x-python",
   "name": "python",
   "nbconvert_exporter": "python",
   "pygments_lexer": "ipython3",
   "version": "3.9.6"
  }
 },
 "nbformat": 4,
 "nbformat_minor": 5
}
