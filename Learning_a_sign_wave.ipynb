{
 "cells": [
  {
   "cell_type": "code",
   "execution_count": 1,
   "id": "b49c7a4d",
   "metadata": {},
   "outputs": [],
   "source": [
    "import numpy as np\n",
    "import math\n",
    "import matplotlib.pyplot as plt"
   ]
  },
  {
   "cell_type": "code",
   "execution_count": 4,
   "id": "6bf28ced",
   "metadata": {},
   "outputs": [
    {
     "ename": "IndentationError",
     "evalue": "expected an indented block (<ipython-input-4-fa6b17ca4ccb>, line 45)",
     "output_type": "error",
     "traceback": [
      "\u001b[0;36m  File \u001b[0;32m\"<ipython-input-4-fa6b17ca4ccb>\"\u001b[0;36m, line \u001b[0;32m45\u001b[0m\n\u001b[0;31m    y_hat_grad = 2.0  *  (y_hat-Y)\u001b[0m\n\u001b[0m    ^\u001b[0m\n\u001b[0;31mIndentationError\u001b[0m\u001b[0;31m:\u001b[0m expected an indented block\n"
     ]
    }
   ],
   "source": [
    "\n",
    "\n",
    "#creating x dataset\n",
    "X = np.linspace(-math.pi,math.pi,2000)\n",
    "\n",
    "#creating a sign wave\n",
    "Y = np.sin(X)\n",
    "\n",
    "\n",
    "\n",
    "\n",
    "#initializing weights\n",
    "a = np.random.randn()\n",
    "b = np.random.randn()\n",
    "c = np.random.randn()\n",
    "d = np.random.randn()\n",
    "\n",
    "#no of epochs\n",
    "epochs = 2000\n",
    "\n",
    "#our model, we are going to design a polynomial model for approximating sin wave\n",
    "\n",
    "learning_rate = 1e-6\n",
    "    \n",
    "\n",
    "for epoch in range(epochs):\n",
    "    \n",
    "    #our model predcition\n",
    "    y_hat = a*(X**3) + b*(X**2) + c*X + d\n",
    "    #print(y_hat.shape)\n",
    "\n",
    "    \n",
    "    #calculating loss\n",
    "    loss = np.square(y_hat - Y).sum()\n",
    "    \n",
    "    if epoch %100 ==99:\n",
    "    \n",
    "        #print(f\"loss:{loss} epoch:{epoch}\")    \n",
    "        \n",
    "    \n",
    "    \n",
    "    \n",
    "    \n",
    "    \n",
    "    \n",
    "    #calculating gradients\n",
    "    y_hat_grad = 2.0  *  (y_hat-Y)\n",
    "    a_grad = ( (X**3) *  y_hat_grad).sum()\n",
    "    b_grad = ( (X**2) *  y_hat_grad).sum()\n",
    "    c_grad = (   X    *  y_hat_grad).sum()\n",
    "    d_grad = (   1    *  y_hat_grad).sum()\n",
    "    \n",
    "    #correcting weights\n",
    "    a -= learning_rate * a_grad\n",
    "    b -= learning_rate * b_grad\n",
    "    c -= learning_rate * c_grad\n",
    "    d -= learning_rate * d_grad\n",
    "    \n",
    "    #print(a,b,c,d)"
   ]
  },
  {
   "cell_type": "code",
   "execution_count": 7,
   "id": "7f504069",
   "metadata": {},
   "outputs": [
    {
     "data": {
      "text/plain": [
       "[<matplotlib.lines.Line2D at 0x7f1eb93a4f40>]"
      ]
     },
     "execution_count": 7,
     "metadata": {},
     "output_type": "execute_result"
    },
    {
     "data": {
      "image/png": "[encoded data removed]",
      "text/plain": [
       "<Figure size 432x288 with 1 Axes>"
      ]
     },
     "metadata": {
      "needs_background": "light"
     },
     "output_type": "display_data"
    }
   ],
   "source": [
    "plt.plot(X,Y,label='true')\n",
    "plt.plot(X,y_hat,label='predicted')"
   ]
  },
  {
   "cell_type": "code",
   "execution_count": null,
   "id": "d68e2aff",
   "metadata": {},
   "outputs": [],
   "source": []
  }
 ],
 "metadata": {
  "kernelspec": {
   "display_name": "Python 3",
   "language": "python",
   "name": "python3"
  },
  "language_info": {
   "codemirror_mode": {
    "name": "ipython",
    "version": 3
   },
   "file_extension": ".py",
   "mimetype": "text/x-python",
   "name": "python",
   "nbconvert_exporter": "python",
   "pygments_lexer": "ipython3",
   "version": "3.8.8"
  }
 },
 "nbformat": 4,
 "nbformat_minor": 5
}
